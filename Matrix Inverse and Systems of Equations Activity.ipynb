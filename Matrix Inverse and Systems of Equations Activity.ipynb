{
  "cells": [
    {
      "cell_type": "markdown",
      "metadata": {
        "id": "7fvlv79Y4scK"
      },
      "source": [
        "# Matrix Inverse and Systems of Equations Activity\n",
        "\n"
      ]
    },
    {
      "cell_type": "code",
      "execution_count": 1,
      "metadata": {
        "id": "ARi9xjCE4scM"
      },
      "outputs": [],
      "source": [
        "import numpy as np"
      ]
    },
    {
      "cell_type": "markdown",
      "metadata": {
        "id": "NYx2mu-d4scN"
      },
      "source": [
        "## Problem 1: Finding the Inverse of a Matrix"
      ]
    },
    {
      "cell_type": "code",
      "execution_count": 2,
      "metadata": {
        "colab": {
          "base_uri": "https://localhost:8080/"
        },
        "id": "NwcKwyWY4scN",
        "outputId": "8074fd53-ce4a-495b-d34c-43a689886c3b"
      },
      "outputs": [
        {
          "output_type": "stream",
          "name": "stdout",
          "text": [
            "Determinant of A: 0.9999999999999964\n",
            "Inverse of A:\n",
            "[[-24.  18.   5.]\n",
            " [ 20. -15.  -4.]\n",
            " [ -5.   4.   1.]]\n",
            "\n",
            "A * A_inv (should be close to the identity matrix):\n",
            "[[ 1. -0.  0.]\n",
            " [ 0.  1.  0.]\n",
            " [ 0. -0.  1.]]\n"
          ]
        }
      ],
      "source": [
        "# Define a 3x3 matrix\n",
        "A = np.array([[1, 2, 3],\n",
        "              [0, 1, 4],\n",
        "              [5, 6, 0]])\n",
        "\n",
        "# Check if the matrix is invertible\n",
        "det_A = np.linalg.det(A)\n",
        "print(f\"Determinant of A: {det_A}\")\n",
        "\n",
        "if det_A != 0:\n",
        "    # Calculate the inverse\n",
        "    A_inv = np.linalg.inv(A)\n",
        "    print(\"Inverse of A:\")\n",
        "    print(A_inv)\n",
        "else:\n",
        "    print(\"Matrix A is not invertible.\")\n",
        "\n",
        "# Verify the inverse by multiplying A and A_inv\n",
        "if det_A != 0:\n",
        "    identity = np.dot(A, A_inv)\n",
        "    print(\"\\nA * A_inv (should be close to the identity matrix):\")\n",
        "    print(np.round(identity, decimals=10))  # Rounding to avoid floating-point errors"
      ]
    },
    {
      "cell_type": "markdown",
      "metadata": {
        "id": "DFiQzmH54scO"
      },
      "source": [
        "## Problem 2: Solving a System of Linear Equations"
      ]
    },
    {
      "cell_type": "code",
      "execution_count": 3,
      "metadata": {
        "colab": {
          "base_uri": "https://localhost:8080/"
        },
        "id": "sXb8QPjj4scO",
        "outputId": "8935b1d8-058d-4ef0-f83c-53be306fc1c1"
      },
      "outputs": [
        {
          "output_type": "stream",
          "name": "stdout",
          "text": [
            "Solution [x, y, z]:\n",
            "[ 2.7  2.5 -0.1]\n",
            "\n",
            "Verification (A * x should equal b):\n",
            "[ 8. 10.  3.]\n"
          ]
        }
      ],
      "source": [
        "# Define the coefficient matrix\n",
        "A = np.array([[2, 1, -1],\n",
        "              [1, 3, 2],\n",
        "              [3, -2, 1]])\n",
        "\n",
        "# Define the constant vector\n",
        "b = np.array([8, 10, 3])\n",
        "\n",
        "# Check if A is invertible\n",
        "if np.linalg.det(A) != 0:\n",
        "    # Solve for x using matrix inverse\n",
        "    x = np.linalg.inv(A).dot(b)\n",
        "    print(\"Solution [x, y, z]:\")\n",
        "    print(x)\n",
        "\n",
        "    # Verify the solution\n",
        "    print(\"\\nVerification (A * x should equal b):\")\n",
        "    print(np.dot(A, x))\n",
        "else:\n",
        "    print(\"Matrix A is not invertible, no unique solution.\")"
      ]
    },
    {
      "cell_type": "markdown",
      "metadata": {
        "id": "9V0vv2y64scO"
      },
      "source": [
        "## Problem 3: Solving a Real-world Problem"
      ]
    },
    {
      "cell_type": "code",
      "execution_count": 4,
      "metadata": {
        "colab": {
          "base_uri": "https://localhost:8080/"
        },
        "id": "ViXnQaG-4scO",
        "outputId": "c01f3894-d458-4f51-8245-7e67818dad53"
      },
      "outputs": [
        {
          "output_type": "stream",
          "name": "stdout",
          "text": [
            "Amounts of each metal [Copper, Zinc, Tin] in kg:\n",
            "[ 40.  60. 100.]\n",
            "\n",
            "Verification (percentages should match the given constraints):\n",
            "Copper: 20.0%, Zinc: 30.0%, Tin: 50.0%\n",
            "Total weight: 200.00 kg\n"
          ]
        }
      ],
      "source": [
        "# Define the coefficient matrix for the alloy problem\n",
        "A = np.array([[0.3, 0.4, 0.3],\n",
        "              [0.2, 0.4, 0.4],\n",
        "              [1, 1, 1]])\n",
        "\n",
        "# Define the constant vector\n",
        "b = np.array([66, 72, 200])\n",
        "\n",
        "# Solve for the amounts of each metal\n",
        "if np.linalg.det(A) != 0:\n",
        "    x = np.linalg.inv(A).dot(b)\n",
        "    print(\"Amounts of each metal [Copper, Zinc, Tin] in kg:\")\n",
        "    print(np.round(x, decimals=2))\n",
        "else:\n",
        "    print(\"The system has no unique solution.\")\n",
        "\n",
        "# Verify the solution\n",
        "print(\"\\nVerification (percentages should match the given constraints):\")\n",
        "print(f\"Copper: {x[0]/2:.1f}%, Zinc: {x[1]/2:.1f}%, Tin: {x[2]/2:.1f}%\")\n",
        "print(f\"Total weight: {np.sum(x):.2f} kg\")"
      ]
    },
    {
      "cell_type": "markdown",
      "metadata": {
        "id": "ePjgFWhO4scO"
      },
      "source": [
        "## Problem 4: Inverse of a 4x4 Matrix"
      ]
    },
    {
      "cell_type": "code",
      "execution_count": 5,
      "metadata": {
        "colab": {
          "base_uri": "https://localhost:8080/"
        },
        "id": "BcRJ2P464scP",
        "outputId": "0d769a2d-0dcf-4625-c5d0-3b073af43523"
      },
      "outputs": [
        {
          "output_type": "stream",
          "name": "stdout",
          "text": [
            "Determinant of B: 1.0\n",
            "\n",
            "Inverse of B:\n",
            "[[ 1. -2.  1.  0.]\n",
            " [ 0.  1. -2.  1.]\n",
            " [ 0.  0.  1. -2.]\n",
            " [ 0.  0.  0.  1.]]\n",
            "\n",
            "B * B_inv (should be close to the identity matrix):\n",
            "[[1. 0. 0. 0.]\n",
            " [0. 1. 0. 0.]\n",
            " [0. 0. 1. 0.]\n",
            " [0. 0. 0. 1.]]\n"
          ]
        }
      ],
      "source": [
        "# Define a 4x4 matrix\n",
        "B = np.array([[1, 2, 3, 4],\n",
        "              [0, 1, 2, 3],\n",
        "              [0, 0, 1, 2],\n",
        "              [0, 0, 0, 1]])\n",
        "\n",
        "# Check if the matrix is invertible\n",
        "det_B = np.linalg.det(B)\n",
        "print(f\"Determinant of B: {det_B}\")\n",
        "\n",
        "if det_B != 0:\n",
        "    # Calculate the inverse\n",
        "    B_inv = np.linalg.inv(B)\n",
        "    print(\"\\nInverse of B:\")\n",
        "    print(B_inv)\n",
        "\n",
        "    # Verify the inverse\n",
        "    identity = np.dot(B, B_inv)\n",
        "    print(\"\\nB * B_inv (should be close to the identity matrix):\")\n",
        "    print(np.round(identity, decimals=10))  # Rounding to avoid floating-point errors\n",
        "else:\n",
        "    print(\"Matrix B is not invertible.\")"
      ]
    },
    {
      "cell_type": "markdown",
      "metadata": {
        "id": "7TKMQhAQ4scP"
      },
      "source": [
        "## Problem 5: Solving a System with a 4x4 Matrix"
      ]
    },
    {
      "cell_type": "code",
      "execution_count": 6,
      "metadata": {
        "colab": {
          "base_uri": "https://localhost:8080/"
        },
        "id": "HfX3uZhd4scP",
        "outputId": "2e3c62af-fd80-4411-c145-fe7dbf223454"
      },
      "outputs": [
        {
          "output_type": "stream",
          "name": "stdout",
          "text": [
            "Solution [a, b, c, d]:\n",
            "[-1.70530257e-13  1.00000000e+01 -1.00000000e+01  1.00000000e+01]\n",
            "\n",
            "Verification (C * x should equal d):\n",
            "[ 10.  30.  70. 140.]\n"
          ]
        }
      ],
      "source": [
        "# Define the coefficient matrix\n",
        "C = np.array([[1, 1, 1, 1],\n",
        "              [1, 2, 3, 4],\n",
        "              [1, 3, 6, 10],\n",
        "              [1, 4, 10, 20]])\n",
        "\n",
        "# Define the constant vector\n",
        "d = np.array([10, 30, 70, 140])\n",
        "\n",
        "# Check if C is invertible\n",
        "if np.linalg.det(C) != 0:\n",
        "    # Solve for x using matrix inverse\n",
        "    x = np.linalg.inv(C).dot(d)\n",
        "    print(\"Solution [a, b, c, d]:\")\n",
        "    print(x)\n",
        "\n",
        "    # Verify the solution\n",
        "    print(\"\\nVerification (C * x should equal d):\")\n",
        "    print(np.dot(C, x))\n",
        "else:\n",
        "    print(\"Matrix C is not invertible, no unique solution.\")"
      ]
    },
    {
      "cell_type": "markdown",
      "metadata": {
        "id": "8MaKEQK74scP"
      },
      "source": [
        "## Bonus Challenge: Function to Check Invertibility and Return Inverse"
      ]
    },
    {
      "cell_type": "code",
      "execution_count": 7,
      "metadata": {
        "colab": {
          "base_uri": "https://localhost:8080/"
        },
        "id": "sHLuwLda4scP",
        "outputId": "b66eaab3-9ad7-4790-8465-34664bd3269b"
      },
      "outputs": [
        {
          "output_type": "stream",
          "name": "stdout",
          "text": [
            "\n",
            "Matrix 1:\n",
            "[[1 2]\n",
            " [3 4]]\n",
            "Inverse:\n",
            "[[-2.   1. ]\n",
            " [ 1.5 -0.5]]\n",
            "Verification (should be close to identity):\n",
            "[[1. 0.]\n",
            " [0. 1.]]\n",
            "\n",
            "Matrix 2:\n",
            "[[1 2]\n",
            " [2 4]]\n",
            "Matrix is not invertible.\n",
            "\n",
            "Matrix 3:\n",
            "[[1 2 3]\n",
            " [4 5 6]\n",
            " [7 8 9]]\n",
            "Matrix is not invertible.\n",
            "\n",
            "Matrix 4:\n",
            "[[1 2 3]\n",
            " [0 1 4]\n",
            " [5 6 0]]\n",
            "Inverse:\n",
            "[[-24.  18.   5.]\n",
            " [ 20. -15.  -4.]\n",
            " [ -5.   4.   1.]]\n",
            "Verification (should be close to identity):\n",
            "[[ 1. -0.  0.]\n",
            " [ 0.  1.  0.]\n",
            " [ 0. -0.  1.]]\n"
          ]
        }
      ],
      "source": [
        "def check_and_invert(matrix):\n",
        "    \"\"\"Check if a matrix is invertible and return its inverse if it is.\"\"\"\n",
        "    try:\n",
        "        # Check if the matrix is square\n",
        "        if matrix.shape[0] != matrix.shape[1]:\n",
        "            raise ValueError(\"Matrix must be square.\")\n",
        "\n",
        "        # Check if the matrix is invertible\n",
        "        det = np.linalg.det(matrix)\n",
        "        if np.isclose(det, 0):\n",
        "            print(\"Matrix is not invertible.\")\n",
        "            return None\n",
        "\n",
        "        # Calculate and return the inverse\n",
        "        inverse = np.linalg.inv(matrix)\n",
        "        return inverse\n",
        "\n",
        "    except np.linalg.LinAlgError:\n",
        "        print(\"Matrix is not invertible.\")\n",
        "        return None\n",
        "\n",
        "# Test the function with different matrices\n",
        "matrices = [\n",
        "    np.array([[1, 2], [3, 4]]),  # Invertible 2x2\n",
        "    np.array([[1, 2], [2, 4]]),  # Non-invertible 2x2\n",
        "    np.array([[1, 2, 3], [4, 5, 6], [7, 8, 9]]),  # Non-invertible 3x3\n",
        "    np.array([[1, 2, 3], [0, 1, 4], [5, 6, 0]])   # Invertible 3x3\n",
        "]\n",
        "\n",
        "for i, matrix in enumerate(matrices, 1):\n",
        "    print(f\"\\nMatrix {i}:\")\n",
        "    print(matrix)\n",
        "    inverse = check_and_invert(matrix)\n",
        "    if inverse is not None:\n",
        "        print(\"Inverse:\")\n",
        "        print(inverse)\n",
        "        print(\"Verification (should be close to identity):\")\n",
        "        print(np.round(np.dot(matrix, inverse), decimals=10))"
      ]
    }
  ],
  "metadata": {
    "kernelspec": {
      "display_name": "Python 3",
      "language": "python",
      "name": "python3"
    },
    "language_info": {
      "codemirror_mode": {
        "name": "ipython",
        "version": 3
      },
      "file_extension": ".py",
      "mimetype": "text/x-python",
      "name": "python",
      "nbconvert_exporter": "python",
      "pygments_lexer": "ipython3",
      "version": "3.8.5"
    },
    "colab": {
      "provenance": []
    }
  },
  "nbformat": 4,
  "nbformat_minor": 0
}